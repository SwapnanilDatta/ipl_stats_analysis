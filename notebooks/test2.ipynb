{
 "cells": [
  {
   "cell_type": "code",
   "execution_count": 6,
   "metadata": {},
   "outputs": [],
   "source": [
    "import pandas as pd\n",
    "\n",
    "# Read the cricket_data.csv\n",
    "df = pd.read_csv('../data/ipl_players_api.csv')"
   ]
  },
  {
   "cell_type": "code",
   "execution_count": 7,
   "metadata": {},
   "outputs": [
    {
     "name": "stdout",
     "output_type": "stream",
     "text": [
      "<class 'pandas.core.frame.DataFrame'>\n",
      "RangeIndex: 605 entries, 0 to 604\n",
      "Data columns (total 17 columns):\n",
      " #   Column               Non-Null Count  Dtype  \n",
      "---  ------               --------------  -----  \n",
      " 0   Unnamed: 0           605 non-null    int64  \n",
      " 1   player               605 non-null    object \n",
      " 2   runs                 605 non-null    int64  \n",
      " 3   boundaries           605 non-null    int64  \n",
      " 4   balls_faced          605 non-null    int64  \n",
      " 5   wickets              605 non-null    float64\n",
      " 6   balls_bowled         605 non-null    float64\n",
      " 7   runs_conceded        605 non-null    float64\n",
      " 8   matches              605 non-null    int64  \n",
      " 9   batting_avg          605 non-null    float64\n",
      " 10  batting_strike_rate  605 non-null    float64\n",
      " 11  boundaries_percent   605 non-null    float64\n",
      " 12  bowling_economy      605 non-null    float64\n",
      " 13  bowling_avg          605 non-null    float64\n",
      " 14  bowling_strike_rate  605 non-null    float64\n",
      " 15  catches              605 non-null    float64\n",
      " 16  stumpings            605 non-null    float64\n",
      "dtypes: float64(11), int64(5), object(1)\n",
      "memory usage: 80.5+ KB\n"
     ]
    }
   ],
   "source": [
    "df.head()\n",
    "df.info()"
   ]
  },
  {
   "cell_type": "code",
   "execution_count": 8,
   "metadata": {},
   "outputs": [
    {
     "data": {
      "text/plain": [
       "Unnamed: 0             0\n",
       "player                 0\n",
       "runs                   0\n",
       "boundaries             0\n",
       "balls_faced            0\n",
       "wickets                0\n",
       "balls_bowled           0\n",
       "runs_conceded          0\n",
       "matches                0\n",
       "batting_avg            0\n",
       "batting_strike_rate    0\n",
       "boundaries_percent     0\n",
       "bowling_economy        0\n",
       "bowling_avg            0\n",
       "bowling_strike_rate    0\n",
       "catches                0\n",
       "stumpings              0\n",
       "dtype: int64"
      ]
     },
     "execution_count": 8,
     "metadata": {},
     "output_type": "execute_result"
    }
   ],
   "source": [
    "df.isnull().sum()"
   ]
  }
 ],
 "metadata": {
  "kernelspec": {
   "display_name": "venv",
   "language": "python",
   "name": "python3"
  },
  "language_info": {
   "codemirror_mode": {
    "name": "ipython",
    "version": 3
   },
   "file_extension": ".py",
   "mimetype": "text/x-python",
   "name": "python",
   "nbconvert_exporter": "python",
   "pygments_lexer": "ipython3",
   "version": "3.12.1"
  }
 },
 "nbformat": 4,
 "nbformat_minor": 2
}
