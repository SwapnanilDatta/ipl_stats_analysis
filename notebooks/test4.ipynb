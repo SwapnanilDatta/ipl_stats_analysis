{
 "cells": [
  {
   "cell_type": "code",
   "execution_count": 2,
   "metadata": {},
   "outputs": [
    {
     "name": "stdout",
     "output_type": "stream",
     "text": [
      "        ID       City        Date Season  MatchNumber  \\\n",
      "0  1312200  Ahmedabad  2022-05-29   2022        Final   \n",
      "1  1312199  Ahmedabad  2022-05-27   2022  Qualifier 2   \n",
      "2  1312198    Kolkata  2022-05-25   2022   Eliminator   \n",
      "3  1312197    Kolkata  2022-05-24   2022  Qualifier 1   \n",
      "4  1304116     Mumbai  2022-05-22   2022           70   \n",
      "\n",
      "                         Team1                 Team2  \\\n",
      "0             Rajasthan Royals        Gujarat Titans   \n",
      "1  Royal Challengers Bangalore      Rajasthan Royals   \n",
      "2  Royal Challengers Bangalore  Lucknow Super Giants   \n",
      "3             Rajasthan Royals        Gujarat Titans   \n",
      "4          Sunrisers Hyderabad          Punjab Kings   \n",
      "\n",
      "                              Venue            TossWinner TossDecision  \\\n",
      "0  Narendra Modi Stadium, Ahmedabad      Rajasthan Royals          bat   \n",
      "1  Narendra Modi Stadium, Ahmedabad      Rajasthan Royals        field   \n",
      "2             Eden Gardens, Kolkata  Lucknow Super Giants        field   \n",
      "3             Eden Gardens, Kolkata        Gujarat Titans        field   \n",
      "4          Wankhede Stadium, Mumbai   Sunrisers Hyderabad          bat   \n",
      "\n",
      "  SuperOver                  WinningTeam    WonBy  Margin method  \\\n",
      "0         N               Gujarat Titans  Wickets     7.0    NaN   \n",
      "1         N             Rajasthan Royals  Wickets     7.0    NaN   \n",
      "2         N  Royal Challengers Bangalore     Runs    14.0    NaN   \n",
      "3         N               Gujarat Titans  Wickets     7.0    NaN   \n",
      "4         N                 Punjab Kings  Wickets     5.0    NaN   \n",
      "\n",
      "  Player_of_Match                                       Team1Players  \\\n",
      "0       HH Pandya  ['YBK Jaiswal', 'JC Buttler', 'SV Samson', 'D ...   \n",
      "1      JC Buttler  ['V Kohli', 'F du Plessis', 'RM Patidar', 'GJ ...   \n",
      "2      RM Patidar  ['V Kohli', 'F du Plessis', 'RM Patidar', 'GJ ...   \n",
      "3       DA Miller  ['YBK Jaiswal', 'JC Buttler', 'SV Samson', 'D ...   \n",
      "4   Harpreet Brar  ['PK Garg', 'Abhishek Sharma', 'RA Tripathi', ...   \n",
      "\n",
      "                                        Team2Players        Umpire1  \\\n",
      "0  ['WP Saha', 'Shubman Gill', 'MS Wade', 'HH Pan...    CB Gaffaney   \n",
      "1  ['YBK Jaiswal', 'JC Buttler', 'SV Samson', 'D ...    CB Gaffaney   \n",
      "2  ['Q de Kock', 'KL Rahul', 'M Vohra', 'DJ Hooda...  J Madanagopal   \n",
      "3  ['WP Saha', 'Shubman Gill', 'MS Wade', 'HH Pan...   BNJ Oxenford   \n",
      "4  ['JM Bairstow', 'S Dhawan', 'M Shahrukh Khan',...   AK Chaudhary   \n",
      "\n",
      "         Umpire2  \n",
      "0    Nitin Menon  \n",
      "1    Nitin Menon  \n",
      "2       MA Gough  \n",
      "3      VK Sharma  \n",
      "4  NA Patwardhan  \n"
     ]
    },
    {
     "data": {
      "text/plain": [
       "ID                   0\n",
       "City                51\n",
       "Date                 0\n",
       "Season               0\n",
       "MatchNumber          0\n",
       "Team1                0\n",
       "Team2                0\n",
       "Venue                0\n",
       "TossWinner           0\n",
       "TossDecision         0\n",
       "SuperOver            4\n",
       "WinningTeam          4\n",
       "WonBy                0\n",
       "Margin              18\n",
       "method             931\n",
       "Player_of_Match      4\n",
       "Team1Players         0\n",
       "Team2Players         0\n",
       "Umpire1              0\n",
       "Umpire2              0\n",
       "dtype: int64"
      ]
     },
     "execution_count": 2,
     "metadata": {},
     "output_type": "execute_result"
    }
   ],
   "source": [
    "import pandas as pd\n",
    "\n",
    "\n",
    "matches_df = pd.read_csv('../data/IPL_Matches_2008_2022.csv')\n",
    "\n",
    "\n",
    "print(matches_df.head())\n",
    "\n",
    "\n",
    "\n",
    "matches_df.isnull().sum()\n"
   ]
  },
  {
   "cell_type": "code",
   "execution_count": 3,
   "metadata": {},
   "outputs": [
    {
     "data": {
      "text/plain": [
       "Team1\n",
       "Royal Challengers Bangalore    126\n",
       "Mumbai Indians                 112\n",
       "Chennai Super Kings            111\n",
       "Kolkata Knight Riders          105\n",
       "Kings XI Punjab                 92\n",
       "Rajasthan Royals                89\n",
       "Delhi Daredevils                85\n",
       "Sunrisers Hyderabad             69\n",
       "Deccan Chargers                 39\n",
       "Delhi Capitals                  29\n",
       "Pune Warriors                   23\n",
       "Punjab Kings                    18\n",
       "Gujarat Lions                   16\n",
       "Lucknow Super Giants             8\n",
       "Gujarat Titans                   7\n",
       "Rising Pune Supergiant           7\n",
       "Rising Pune Supergiants          7\n",
       "Kochi Tuskers Kerala             7\n",
       "Name: count, dtype: int64"
      ]
     },
     "execution_count": 3,
     "metadata": {},
     "output_type": "execute_result"
    }
   ],
   "source": [
    "matches_df['Team1'].value_counts()"
   ]
  },
  {
   "cell_type": "code",
   "execution_count": 6,
   "metadata": {},
   "outputs": [
    {
     "name": "stdout",
     "output_type": "stream",
     "text": [
      "Team1\n",
      "Royal Challengers Bangalore    126\n",
      "Mumbai Indians                 112\n",
      "Chennai Super Kings            111\n",
      "Kolkata Knight Riders          105\n",
      "Kings XI Punjab                 92\n",
      "Rajasthan Royals                89\n",
      "Delhi Daredevils                85\n",
      "Sunrisers Hyderabad             69\n",
      "Deccan Chargers                 39\n",
      "Delhi Capitals                  29\n",
      "Pune Warriors                   23\n",
      "Punjab Kings                    18\n",
      "Gujarat Lions                   16\n",
      "Lucknow Super Giants             8\n",
      "Name: count, dtype: int64\n"
     ]
    }
   ],
   "source": [
    "\n",
    "frequent_teams = matches_df['Team1'].value_counts()[matches_df['Team1'].value_counts() >7].index\n",
    "\n",
    "filtered_matches_df = matches_df[matches_df['Team1'].isin(frequent_teams)]\n",
    "\n",
    "print(filtered_matches_df['Team1'].value_counts())\n"
   ]
  },
  {
   "cell_type": "code",
   "execution_count": 11,
   "metadata": {},
   "outputs": [
    {
     "name": "stdout",
     "output_type": "stream",
     "text": [
      "\n",
      "Season-wise Head to Head Statistics: Mumbai Indians vs Chennai Super Kings\n",
      "         Mumbai Indians  Chennai Super Kings\n",
      "Season                                      \n",
      "2007/08               1                    1\n",
      "2009                  1                    1\n",
      "2009/10               1                    2\n",
      "2011                  1                    0\n",
      "2012                  2                    1\n",
      "2013                  3                    1\n",
      "2014                  0                    3\n",
      "2015                  3                    1\n",
      "2018                  1                    1\n",
      "2019                  4                    0\n",
      "2020/21               1                    1\n",
      "2021                  1                    1\n",
      "2022                  1                    1\n"
     ]
    },
    {
     "name": "stderr",
     "output_type": "stream",
     "text": [
      "C:\\Users\\LENOVO\\AppData\\Local\\Temp\\ipykernel_4248\\2158565564.py:10: DeprecationWarning: DataFrameGroupBy.apply operated on the grouping columns. This behavior is deprecated, and in a future version of pandas the grouping columns will be excluded from the operation. Either pass `include_groups=False` to exclude the groupings or explicitly select the grouping columns after groupby to silence this warning.\n",
      "  seasonal_stats = team_matches.groupby('Season').apply(\n"
     ]
    },
    {
     "data": {
      "text/html": [
       "<div>\n",
       "<style scoped>\n",
       "    .dataframe tbody tr th:only-of-type {\n",
       "        vertical-align: middle;\n",
       "    }\n",
       "\n",
       "    .dataframe tbody tr th {\n",
       "        vertical-align: top;\n",
       "    }\n",
       "\n",
       "    .dataframe thead th {\n",
       "        text-align: right;\n",
       "    }\n",
       "</style>\n",
       "<table border=\"1\" class=\"dataframe\">\n",
       "  <thead>\n",
       "    <tr style=\"text-align: right;\">\n",
       "      <th></th>\n",
       "      <th>Mumbai Indians</th>\n",
       "      <th>Chennai Super Kings</th>\n",
       "    </tr>\n",
       "    <tr>\n",
       "      <th>Season</th>\n",
       "      <th></th>\n",
       "      <th></th>\n",
       "    </tr>\n",
       "  </thead>\n",
       "  <tbody>\n",
       "    <tr>\n",
       "      <th>2007/08</th>\n",
       "      <td>1</td>\n",
       "      <td>1</td>\n",
       "    </tr>\n",
       "    <tr>\n",
       "      <th>2009</th>\n",
       "      <td>1</td>\n",
       "      <td>1</td>\n",
       "    </tr>\n",
       "    <tr>\n",
       "      <th>2009/10</th>\n",
       "      <td>1</td>\n",
       "      <td>2</td>\n",
       "    </tr>\n",
       "    <tr>\n",
       "      <th>2011</th>\n",
       "      <td>1</td>\n",
       "      <td>0</td>\n",
       "    </tr>\n",
       "    <tr>\n",
       "      <th>2012</th>\n",
       "      <td>2</td>\n",
       "      <td>1</td>\n",
       "    </tr>\n",
       "    <tr>\n",
       "      <th>2013</th>\n",
       "      <td>3</td>\n",
       "      <td>1</td>\n",
       "    </tr>\n",
       "    <tr>\n",
       "      <th>2014</th>\n",
       "      <td>0</td>\n",
       "      <td>3</td>\n",
       "    </tr>\n",
       "    <tr>\n",
       "      <th>2015</th>\n",
       "      <td>3</td>\n",
       "      <td>1</td>\n",
       "    </tr>\n",
       "    <tr>\n",
       "      <th>2018</th>\n",
       "      <td>1</td>\n",
       "      <td>1</td>\n",
       "    </tr>\n",
       "    <tr>\n",
       "      <th>2019</th>\n",
       "      <td>4</td>\n",
       "      <td>0</td>\n",
       "    </tr>\n",
       "    <tr>\n",
       "      <th>2020/21</th>\n",
       "      <td>1</td>\n",
       "      <td>1</td>\n",
       "    </tr>\n",
       "    <tr>\n",
       "      <th>2021</th>\n",
       "      <td>1</td>\n",
       "      <td>1</td>\n",
       "    </tr>\n",
       "    <tr>\n",
       "      <th>2022</th>\n",
       "      <td>1</td>\n",
       "      <td>1</td>\n",
       "    </tr>\n",
       "  </tbody>\n",
       "</table>\n",
       "</div>"
      ],
      "text/plain": [
       "         Mumbai Indians  Chennai Super Kings\n",
       "Season                                      \n",
       "2007/08               1                    1\n",
       "2009                  1                    1\n",
       "2009/10               1                    2\n",
       "2011                  1                    0\n",
       "2012                  2                    1\n",
       "2013                  3                    1\n",
       "2014                  0                    3\n",
       "2015                  3                    1\n",
       "2018                  1                    1\n",
       "2019                  4                    0\n",
       "2020/21               1                    1\n",
       "2021                  1                    1\n",
       "2022                  1                    1"
      ]
     },
     "execution_count": 11,
     "metadata": {},
     "output_type": "execute_result"
    },
    {
     "data": {
      "text/plain": [
       "<Figure size 1200x600 with 0 Axes>"
      ]
     },
     "metadata": {},
     "output_type": "display_data"
    },
    {
     "data": {
      "image/png": "[encoded data removed]",
      "text/plain": [
       "<Figure size 640x480 with 1 Axes>"
      ]
     },
     "metadata": {},
     "output_type": "display_data"
    }
   ],
   "source": [
    "# Create season-wise head-to-head analysis\n",
    "def seasonal_h2h_analysis(team1, team2):\n",
    "    # Filter matches between these two teams\n",
    "    team_matches = filtered_matches_df[\n",
    "        ((filtered_matches_df['Team1'] == team1) & (filtered_matches_df['Team2'] == team2)) |\n",
    "        ((filtered_matches_df['Team1'] == team2) & (filtered_matches_df['Team2'] == team1))\n",
    "    ]\n",
    "    \n",
    "    # Group by season and get wins\n",
    "    seasonal_stats = team_matches.groupby('Season').apply(\n",
    "        lambda x: pd.Series({\n",
    "            team1: len(x[x['WinningTeam'] == team1]),\n",
    "            team2: len(x[x['WinningTeam'] == team2])\n",
    "        })\n",
    "    ).fillna(0)\n",
    "    \n",
    "    # Plotting\n",
    "    plt.figure(figsize=(12, 6))\n",
    "    seasonal_stats.plot(kind='bar', width=0.8)\n",
    "    plt.title(f'Season-wise Head to Head: {team1} vs {team2}')\n",
    "    plt.xlabel('Season')\n",
    "    plt.ylabel('Number of Wins')\n",
    "    plt.legend(title='Teams')\n",
    "    plt.xticks(rotation=45)\n",
    "    plt.grid(axis='y', linestyle='--', alpha=0.7)\n",
    "    \n",
    "    # Print statistics\n",
    "    print(f\"\\nSeason-wise Head to Head Statistics: {team1} vs {team2}\")\n",
    "    print(seasonal_stats)\n",
    "    \n",
    "    return seasonal_stats\n",
    "\n",
    "# Import matplotlib\n",
    "import matplotlib.pyplot as plt\n",
    "\n",
    "# Example usage\n",
    "seasonal_h2h_analysis('Mumbai Indians', 'Chennai Super Kings')\n"
   ]
  },
  {
   "cell_type": "code",
   "execution_count": 12,
   "metadata": {},
   "outputs": [],
   "source": [
    "# Save the filtered dataframe to a new CSV file\n",
    "filtered_matches_df.to_csv('../data/filtered_ipl_matches.csv', index=False)\n"
   ]
  }
 ],
 "metadata": {
  "kernelspec": {
   "display_name": "Python 3",
   "language": "python",
   "name": "python3"
  },
  "language_info": {
   "codemirror_mode": {
    "name": "ipython",
    "version": 3
   },
   "file_extension": ".py",
   "mimetype": "text/x-python",
   "name": "python",
   "nbconvert_exporter": "python",
   "pygments_lexer": "ipython3",
   "version": "3.12.1"
  }
 },
 "nbformat": 4,
 "nbformat_minor": 2
}
